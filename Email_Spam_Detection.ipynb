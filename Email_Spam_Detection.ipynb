{
  "nbformat": 4,
  "nbformat_minor": 0,
  "metadata": {
    "colab": {
      "provenance": [],
      "authorship_tag": "ABX9TyPXEWDZpTd2cmwIaF6bqhOY",
      "include_colab_link": true
    },
    "kernelspec": {
      "name": "python3",
      "display_name": "Python 3"
    },
    "language_info": {
      "name": "python"
    }
  },
  "cells": [
    {
      "cell_type": "markdown",
      "metadata": {
        "id": "view-in-github",
        "colab_type": "text"
      },
      "source": [
        "<a href=\"https://colab.research.google.com/github/sravankumar21/CVIP-DataScience/blob/main/Email_Spam_Detection.ipynb\" target=\"_parent\"><img src=\"https://colab.research.google.com/assets/colab-badge.svg\" alt=\"Open In Colab\"/></a>"
      ]
    },
    {
      "cell_type": "markdown",
      "source": [
        "***Importing Modules***"
      ],
      "metadata": {
        "id": "ZUgnq1iGai9S"
      }
    },
    {
      "cell_type": "code",
      "execution_count": null,
      "metadata": {
        "id": "SCgxEPeAYG89"
      },
      "outputs": [],
      "source": [
        "import pandas as pd\n",
        "from sklearn.model_selection import train_test_split\n",
        "from sklearn.feature_extraction.text import TfidfVectorizer\n",
        "from sklearn.linear_model import LogisticRegression\n",
        "from sklearn.metrics import accuracy_score, classification_report\n",
        "data = pd.read_csv(\"/content/spam.csv\", encoding=\"latin-1\")\n",
        "data.head()"
      ]
    },
    {
      "cell_type": "markdown",
      "source": [
        "***Feature Selection and Splitting***"
      ],
      "metadata": {
        "id": "0B6FZNSraXcp"
      }
    },
    {
      "cell_type": "code",
      "source": [
        "corpus = data[\"v2\"]\n",
        "labels = data[\"v1\"]\n",
        "corpus_train, corpus_test, labels_train, labels_test = train_test_split(corpus, labels, test_size=0.2, random_state=42)"
      ],
      "metadata": {
        "id": "fje5MOaGZyLt"
      },
      "execution_count": 3,
      "outputs": []
    },
    {
      "cell_type": "markdown",
      "source": [
        "***Training The Model***"
      ],
      "metadata": {
        "id": "Cx3WkMOqaMW4"
      }
    },
    {
      "cell_type": "code",
      "source": [
        "vectorizer = TfidfVectorizer()\n",
        "X_train = vectorizer.fit_transform(corpus_train)\n",
        "X_test = vectorizer.transform(corpus_test)\n",
        "classifier = LogisticRegression(max_iter=1000)\n",
        "classifier.fit(X_train, labels_train)"
      ],
      "metadata": {
        "colab": {
          "base_uri": "https://localhost:8080/",
          "height": 75
        },
        "id": "baPb2TZVZ5u0",
        "outputId": "03bf2882-93f9-4e78-e405-6540a2a7a76d"
      },
      "execution_count": 4,
      "outputs": [
        {
          "output_type": "execute_result",
          "data": {
            "text/plain": [
              "LogisticRegression(max_iter=1000)"
            ],
            "text/html": [
              "<style>#sk-container-id-1 {color: black;background-color: white;}#sk-container-id-1 pre{padding: 0;}#sk-container-id-1 div.sk-toggleable {background-color: white;}#sk-container-id-1 label.sk-toggleable__label {cursor: pointer;display: block;width: 100%;margin-bottom: 0;padding: 0.3em;box-sizing: border-box;text-align: center;}#sk-container-id-1 label.sk-toggleable__label-arrow:before {content: \"▸\";float: left;margin-right: 0.25em;color: #696969;}#sk-container-id-1 label.sk-toggleable__label-arrow:hover:before {color: black;}#sk-container-id-1 div.sk-estimator:hover label.sk-toggleable__label-arrow:before {color: black;}#sk-container-id-1 div.sk-toggleable__content {max-height: 0;max-width: 0;overflow: hidden;text-align: left;background-color: #f0f8ff;}#sk-container-id-1 div.sk-toggleable__content pre {margin: 0.2em;color: black;border-radius: 0.25em;background-color: #f0f8ff;}#sk-container-id-1 input.sk-toggleable__control:checked~div.sk-toggleable__content {max-height: 200px;max-width: 100%;overflow: auto;}#sk-container-id-1 input.sk-toggleable__control:checked~label.sk-toggleable__label-arrow:before {content: \"▾\";}#sk-container-id-1 div.sk-estimator input.sk-toggleable__control:checked~label.sk-toggleable__label {background-color: #d4ebff;}#sk-container-id-1 div.sk-label input.sk-toggleable__control:checked~label.sk-toggleable__label {background-color: #d4ebff;}#sk-container-id-1 input.sk-hidden--visually {border: 0;clip: rect(1px 1px 1px 1px);clip: rect(1px, 1px, 1px, 1px);height: 1px;margin: -1px;overflow: hidden;padding: 0;position: absolute;width: 1px;}#sk-container-id-1 div.sk-estimator {font-family: monospace;background-color: #f0f8ff;border: 1px dotted black;border-radius: 0.25em;box-sizing: border-box;margin-bottom: 0.5em;}#sk-container-id-1 div.sk-estimator:hover {background-color: #d4ebff;}#sk-container-id-1 div.sk-parallel-item::after {content: \"\";width: 100%;border-bottom: 1px solid gray;flex-grow: 1;}#sk-container-id-1 div.sk-label:hover label.sk-toggleable__label {background-color: #d4ebff;}#sk-container-id-1 div.sk-serial::before {content: \"\";position: absolute;border-left: 1px solid gray;box-sizing: border-box;top: 0;bottom: 0;left: 50%;z-index: 0;}#sk-container-id-1 div.sk-serial {display: flex;flex-direction: column;align-items: center;background-color: white;padding-right: 0.2em;padding-left: 0.2em;position: relative;}#sk-container-id-1 div.sk-item {position: relative;z-index: 1;}#sk-container-id-1 div.sk-parallel {display: flex;align-items: stretch;justify-content: center;background-color: white;position: relative;}#sk-container-id-1 div.sk-item::before, #sk-container-id-1 div.sk-parallel-item::before {content: \"\";position: absolute;border-left: 1px solid gray;box-sizing: border-box;top: 0;bottom: 0;left: 50%;z-index: -1;}#sk-container-id-1 div.sk-parallel-item {display: flex;flex-direction: column;z-index: 1;position: relative;background-color: white;}#sk-container-id-1 div.sk-parallel-item:first-child::after {align-self: flex-end;width: 50%;}#sk-container-id-1 div.sk-parallel-item:last-child::after {align-self: flex-start;width: 50%;}#sk-container-id-1 div.sk-parallel-item:only-child::after {width: 0;}#sk-container-id-1 div.sk-dashed-wrapped {border: 1px dashed gray;margin: 0 0.4em 0.5em 0.4em;box-sizing: border-box;padding-bottom: 0.4em;background-color: white;}#sk-container-id-1 div.sk-label label {font-family: monospace;font-weight: bold;display: inline-block;line-height: 1.2em;}#sk-container-id-1 div.sk-label-container {text-align: center;}#sk-container-id-1 div.sk-container {/* jupyter's `normalize.less` sets `[hidden] { display: none; }` but bootstrap.min.css set `[hidden] { display: none !important; }` so we also need the `!important` here to be able to override the default hidden behavior on the sphinx rendered scikit-learn.org. See: https://github.com/scikit-learn/scikit-learn/issues/21755 */display: inline-block !important;position: relative;}#sk-container-id-1 div.sk-text-repr-fallback {display: none;}</style><div id=\"sk-container-id-1\" class=\"sk-top-container\"><div class=\"sk-text-repr-fallback\"><pre>LogisticRegression(max_iter=1000)</pre><b>In a Jupyter environment, please rerun this cell to show the HTML representation or trust the notebook. <br />On GitHub, the HTML representation is unable to render, please try loading this page with nbviewer.org.</b></div><div class=\"sk-container\" hidden><div class=\"sk-item\"><div class=\"sk-estimator sk-toggleable\"><input class=\"sk-toggleable__control sk-hidden--visually\" id=\"sk-estimator-id-1\" type=\"checkbox\" checked><label for=\"sk-estimator-id-1\" class=\"sk-toggleable__label sk-toggleable__label-arrow\">LogisticRegression</label><div class=\"sk-toggleable__content\"><pre>LogisticRegression(max_iter=1000)</pre></div></div></div></div></div>"
            ]
          },
          "metadata": {},
          "execution_count": 4
        }
      ]
    },
    {
      "cell_type": "markdown",
      "source": [
        "***Evaluating The Model***"
      ],
      "metadata": {
        "id": "tCVeZFypaBTO"
      }
    },
    {
      "cell_type": "code",
      "source": [
        "predictions = classifier.predict(X_test)\n",
        "accuracy = accuracy_score(labels_test, predictions)\n",
        "classification_rep = classification_report(labels_test, predictions)\n",
        "\n",
        "print(\"Accuracy:\", accuracy)\n",
        "print(\"Classification Report:\")\n",
        "print(classification_rep)"
      ],
      "metadata": {
        "colab": {
          "base_uri": "https://localhost:8080/"
        },
        "id": "Ob0NIal3Z-lK",
        "outputId": "89bcb1f5-8851-461c-a91e-490bef3b80bf"
      },
      "execution_count": 5,
      "outputs": [
        {
          "output_type": "stream",
          "name": "stdout",
          "text": [
            "Accuracy: 0.9659192825112107\n",
            "Classification Report:\n",
            "              precision    recall  f1-score   support\n",
            "\n",
            "         ham       0.96      1.00      0.98       965\n",
            "        spam       0.99      0.75      0.86       150\n",
            "\n",
            "    accuracy                           0.97      1115\n",
            "   macro avg       0.98      0.88      0.92      1115\n",
            "weighted avg       0.97      0.97      0.96      1115\n",
            "\n"
          ]
        }
      ]
    },
    {
      "cell_type": "code",
      "source": [
        "user_input = input(\"Enter an Mail: \")\n",
        "user_input_vector = vectorizer.transform([user_input])\n",
        "prediction = classifier.predict(user_input_vector)\n",
        "if prediction[0] == 'spam':\n",
        "    print(\"This Mail is predicted to be spam.\")\n",
        "else:\n",
        "    print(\"This Mail is predicted to be ham.\")"
      ],
      "metadata": {
        "id": "p4-b6N_ZcA5y",
        "outputId": "3d2288cb-6880-4127-c8a4-e8bdd0022efb",
        "colab": {
          "base_uri": "https://localhost:8080/"
        }
      },
      "execution_count": 6,
      "outputs": [
        {
          "output_type": "stream",
          "name": "stdout",
          "text": [
            "Enter an Mail: Dear Investor, With reference to NSE circular NSE/INSP/46704 dated December 17, 2020 and NSE/INSP/46960 dated January 08, 2021, Stock Brokers are required to upload clients fund balance and securities balance on weekly basis. Information pertaining to your fund and securities balance and last settlement date as on 29-07-23 provided by PAYTM MONEY LTD.. along with the details of securities ISIN wise is attached.  Please follow the procedure given below for opening the attachment: 1. Click on the attachment provided with this mail. 2. You will be prompted for your password. 3. The password is your PAN number in upper case.  Please note that negative number in the file represents debit balance/balance payable by you. Also, the funds and securities balances provided are what is maintained with your broker and does not include balance in your personal bank account and demat account.  You are advised to compare the funds, securities and commodities balances received from Exchange on a weekly basis with the balances in the weekly statement of accounts for funds, securities and commodities sent by the stockbroker for the respective date. In case you find any discrepancy in the balances, we advise you to take up the matter immediately with your Broker. You may contact customer service at ops-exchange@paytmmoney.com or 08046253716.  In case of non-resolution of discrepancy by the broker, you may intimate the same to the Exchange at ignse@nse.co.in or 18002660050 or register an online complaint at https://investorhelpline.nseindia.com/NICEPLUS/  The data is being provided to the clients on an \"as is\" and \"what-is\" basis as provided by the trading member. The Exchange shall not be liable for any delays, errors, omissions, commissions, inaccuracies in rendering the data. In no event shall the Exchange be liable for any damages, including without limitation direct or indirect, special, incidental, or consequential damages, losses or expenses arising in connection with the data provided by the Exchange through this facility.  You are requested note that in the event of trading member being declared as defaulter/expelled, all transactions executed on the exchange trading platform within 90 calendar days prior to the effective date of disablement of the trading member or after the latest monthly/quarterly settlement date, if any, in respect of the claimant whichever is later shall be considered eligible for compensation from IPFT subject to Rules, Byelaws, Regulations, guidelines etc. of the Exchange and SEBI circulars and subject to the appropriate norms laid down by the relevant Committee. For details, you may refer the policy hosted on the website https://static.nseindia.com//s3fs-public/inline-files/Policy_for_evaluation_of_claims_0.pdf  For Information & Education Purpose  We would like to draw your attention to \"SEBI vide circular dated April 04, 2022, wherein they have introduced the mechanism of “Demat Debit and Pledge Instruction (DDPI)”. The DDPI shall serve the same purpose of POA and significantly mitigate the misuse of POA.  You should be aware that the stockbroker and depository participant cannot directly / indirectly compel the clients to execute the DDPI or deny services to the client if the client refuses to execute the DDPI.  Please refer to SEBI Circular dated October 06, 2022, for the list of instructions which client can give to its stockbroker / depository participant. You may refer the following link for same:  https://www.sebi.gov.in/legal/circulars/oct-2022/execution-of-demat-debit-and-pledge-instruction-ddpi-for-transfer-of-securities-towards-deliveries-settlement-obligations-and-pledging-re-pledging-of-securities-clarification_63724.html  Should you wish to give any instructions, these need to be signed in physical against each purpose of DDPI. In case of an eSign option is made available, client should be given an option to choose the specific purpose(s) of DDPI\".  Do's & Dont's  1. Deal only with registered intermediaries - check the registration certificate of the intermediary you are dealing with. It allows recourse to regulatory action. 2. Beware of fixed/guaranteed/regular returns/ capital protection schemes. Brokers or their authorized persons or any of their associates are not authorized to offer fixed/guaranteed/regular returns/ capital protection on your investment or authorized to enter into any loan agreement with you to pay interest on the funds offered by you. Please note that claims for funds or securities given to the broker under any arrangement/ agreement of indicative return will not be accepted by the Exchange in case of default by your broker. 3. Please ensure that you fill all the required details in ‘KYC’ document by yourself and receive duly signed copy of your ‘KYC’ documents from your broker. Check for all conditions that have been agreed and accepted by you. 4. Always keep your contact details viz. Mobile number/Email ID updated with the stock broker. Email and mobile number is mandatory and you must provide the same to your broker for updation in Exchange records. You must immediately take up the matter with Stock Broker/Exchange if you are not receiving the messages from Exchange/Depositories regularly. 5. Opt for electronic (e-mail) contract notes/financial statements only if you are computer savvy and have your own e-mail account. 6. Don't ignore any emails/SMSs received from the Exchange for trades done by you. Verify the same with the Contract notes/Statement of accounts received from your broker and report discrepancy, if any, to your broker in writing immediately and if the Stock Broker does not respond, please take this up with the Exchange/Depositories forthwith. 7. Check the frequency of accounts settlement opted for. If you have opted for running account, please ensure that your broker settles your account and sends statement of accounts regularly and in any case not later than once in 90 days (or 30 days if you have opted for 30 days settlement). Please note that claims for a period longer than 90 days will not be accepted by the Exchange in case of default by your broker. 8. Regularly verify Consolidated Accounts Statement (CAS) received from Depositories and reconcile with your trades / transactions. 9. Ensure that pay-out of funds/securities is received in your account within 1 working day from the date of pay-out. Ensure that you receive Contract Notes within 24 hours of your trades. 10. Trade verification facility is also available on NSE website which you can use to verify your trades executed. 11. Do not keep funds idle with the Stock Broker. Please note that claims for funds, without transactions on the exchange will not be accepted by the Exchange in case of default by your broker. 12. Brokers are not permitted to accept transfer of securities as margin. Securities offered as margin/ collateral MUST remain in the account of the client and can be pledged to the broker. Clients are not permitted to place any securities with the broker or associate of the broker or authorized person of the broker for any reason. Broker can take securities belonging to clients only for settlement of securities sold by the client. 13. Do not fall prey to fraudsters sending emails and SMSs luring to trade in stocks/ Securities promising huge profits. 14. Be careful while executing the PoA (Power of Attorney) - specify all the rights that the stock broker can exercise and timeframe for which PoA is valid. It may be noted that PoA is not a mandatory requirement as per SEBI / Exchanges. 15. Check messages sent by Exchanges on a weekly basis regarding funds and securities balances reported by the trading member and immediately raise a concern to the exchange if you notice a discrepancy. 16. Do not share password (internet account) with anyone. It is like sharing your safe key. 17. Please do not transfer funds, for the purposes of trading to anyone, including an authorized person or an associate of the broker, other than a SEBI registered Stock broker.  निवेशक क्या करें और क्या न करें:  1. केवल रेजिस्टर्ड स्टॉक ब्रोकर के साथ ही व्यवहार/अनुबंध करें - जिस ब्रोकर के साथ आप लेन-देन कर रहे हों, उसके रेजिस्ट्रेशन सर्टिफिकेट की जाँच कर लें। यह नियामक कार्रवाई के लिए सहारा देता है। 2. फिक्सड/गारंटीकृत/नियमित रिटर्न/कैपिटल प्रोटेक्शन प्लान्स से सावधान रहें। ब्रोकर या उनके औथोरइज्ड व्यक्ति या उनका कोई भी प्रतिनिधि/कर्मचारी आपके निवेश पर फिक्सड/गारंटीकृत/नियमित रिटर्न/कैपिटल प्रोटेक्शन देने के लिए औथोरइज्ड नहीं है या आपके द्वारा दिये गए पैसो पर ब्याज का भुगतान करने के लिए आपके साथ कोई लोन समझौता करने के लिए औथोरइज्ड नहीं है। कृपया ध्यान दें कि किसी भी व्यवस्था / सांकेतिक रिटर्न के समझौते के तहत ब्रोकर को दिए गए फंड या सेक्युरिटीज़ के दावे आपके ब्रोकर द्वारा चूक होने पर एक्सचेंज द्वारा स्वीकार नहीं किया जाएगा । 3. कृपया आपने 'केवाईसी' (KYC) पेपर में सभी जरूरी जानकारी खुद भरें और ब्रोकर से अपने 'केवाईसी' पेपर की नियम अनुसार साइन की हुई प्रति प्राप्त करें। उन सभी शर्तों की जांच करें जिन्हें आपने सहमति और स्वीकृति दी है। 4. सुनिश्चित करें कि आपके स्टॉक ब्रोकर के पास हमेशा आपका नया और सही कांटैक्ट डिटेल हो जैसे ईमेल आईडी/मोबाइल नंबर। ईमेल और मोबाइल नंबर जरूरी है और एक्सचेंज रिकॉर्ड में अपडेट के लिए आपको अपने ब्रोकर को मोबाइल नंबर देना होगा। यदि आपको एक्सचेंज/डिपॉजिटरी से नियमित रूप से संदेश नहीं मिल रहे हैं, तो आपको स्टॉक ब्रोकर/एक्सचेंज के पास इस मामले को उठाना चाहिए। 5. इलेक्ट्रॉनिक (ई-मेल) कॉन्ट्रैक्ट नोट्स/फाइनेंशियल डिटेल्स का चयन सिर्फ तभी करें जब आप खुद कंप्यूटर के जानकार हों और आपका अपना ई-मेल अकाउंट हो और आप उसे प्रतिदिन/नियमित देखते हो। 6. आपके द्वारा किए गए ट्रेड के लिए एक्सचेंज से प्राप्त हुए किसी भी ईमेल/एसएमएस को अनदेखा न करें। अपने ब्रोकर से मिले कॉन्ट्रैक्ट नोट/अकाउंट के डिटेल से इसे वेरिफ़ाई करें। यदि कोई गड़बड़ी हो, तो अपने ब्रोकर को तुरंत इसके बारे में लिखित रूप से सूचित करें और यदि स्टॉक ब्रोकर जवाब नहीं देता है, तो एक्सचेंज/डिपॉजिटरी को तुरंत रिपोर्ट करें। 7. आपके द्वारा निश्चित की गई अकाउंट के सेटलमेंट कि फ्रिक्वेन्सी की जांच करें। यदि आपने रनिंग अकाउंट का ऑप्शन चुना है, तो कृपया कन्फ़र्म करें कि आपका ब्रोकर आपके अकाउंट का नियमित रूप से सेटलमेंट करता है और किसी भी स्थिति में 90 दिनों में एक बार ( यदि आपने 30 दिनों के सेटलमेंट का विकल्प चुना है तो 30 दिन) डिटेल्स भेजता है । कृपया ध्यान दें कि आपके ब्रोकर द्वारा डिफॉल्ट होने की स्थिति में एक्सचेंज द्वारा 90 दिनों से अधिक की अवधि के दावे एक्सैप्ट नहीं किए जाएंगे। 8. डिपॉजिटरी से प्राप्त अकाउंट की जानकारी (कंसोलिडेटेड अकाउंट स्टेटमेंट - सी ये एस) नियमित रूप से वेरिफ़ाई करते रहें और अपने ट्रेड/लेनदेन के साथ सामंजस्य स्थापित करें। 9. कन्फ़र्म करें कि पे-आउट की तारीख से 1 वर्किंग डे के भीतर आपके खाते में धनराशि/सिक्योरिटी (शेयर) का पेमेंट हो गया हो। कन्फ़र्म करें कि आपको अपने ट्रेड के 24 घंटों के भीतर कॉन्ट्रैक्ट नोट मिलते हों। 10. एनएसई की वेबसाइट पर ट्रेड वेरिफिकेशन की सुविधा भी उपलब्ध है जिसका उपयोग आप अपने ट्रेड के वेरिफिकेशन के लिए कर सकते हैं। 11. ब्रोकर के पास अनावश्यक बैलेंस न रखें। कृपया ध्यान रहे कि ब्रोकर के दिवालिया निष्कासित होने पर उन खातों के दावे स्वीकार नहीं होंगे जिनमें 90 दिन से कोई ट्रेड ना हुआ हो। 12. ब्रोकर्स को सिक्यूरिटि के ट्रांसफर को मार्जिन के रूप में स्वीकार करने की अनुमति नहीं है। मार्जिन के रूप में दी जाने वाली सिक्योरिटी ग्राहक के अकाउंट में ही रहनी चाहिए और यह ब्रोकर को गिरवी रखी जा सकती हैं। ग्राहकों को किसी भी कारण से ब्रोकर या ब्रोकर के सहयोगी या ब्रोकर के औथोरइज्ड व्यक्ति के साथ कोई सिक्यूरिटी रखने की अनुमति नहीं है। ब्रोकर केवल कस्टमर द्वारा बेची गई सिक्योरिटी के डिपोजिट करने के लिए ग्राहकों से संबंधित सिक्योरिटी ले सकता है। 13. भारी मुनाफे का वादा करने वाले शेयर/सिक्योरिटी में व्यापार करने का लालच देकर ईमेल और एसएमएस भेजने वाले धोखेबाजों के झांसे में न आएं। 14. पीओए (पावर ऑफ अटॉर्नी) देते समय सावधान रहें - सभी अधिकार जिनका स्टॉक ब्रोकर प्रयोग कर सकते हैं और समय सीमा जिसके लिए पीओए मान्य है, इसे स्पष्ट रूप से बताएँ। यह ध्यान रहे कि सेबी/एक्सचेंजों के अनुसार पीओए अनिवार्य / आवश्यक नहीं है। 15. ब्रोकर द्वारा रिपोर्ट किए गए फंड और सिक्योरिटी बैलेंस के बारे में साप्ताहिक आधार पर एक्सचेंज द्वारा भेजे गए मैसेजों की जांच करें और यदि आप इसमें कोई अंतर पाते हैं, तो तुरंत एक्सचेंज को शिकायत करें। 16. किसी के साथ पासवर्ड (इंटरनेट अकाउंट) शेयर न करें। ऐसा करना अपने सुरक्षित पैसे शेयर करने जैसा है। 17. कृपया सेबी के रेजिस्टर्ड स्टॉक ब्रोकर के अलावा किसी औथोरइज्ड व्यक्ति या ब्रोकर के सहयोगी सहित किसी को भी ट्रेडिंग के उद्देश्य से फंड ट्रांसफर न करें। This is a system generated email, do not reply to this email id.  Thanks and Regards, National Stock Exchange of India Limited.  One attachment   • Scanned by Gmail Encrypted attachment warning – Be careful with this attachment. This message contains 1 encrypted attachment that can't be scanned for malicious content. Avoid downloading it unless you know the sender and are confident that this email is legitimate.\n",
            "This Mail is predicted to be ham.\n"
          ]
        }
      ]
    }
  ]
}