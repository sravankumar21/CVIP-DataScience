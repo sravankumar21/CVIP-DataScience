{
  "nbformat": 4,
  "nbformat_minor": 0,
  "metadata": {
    "colab": {
      "provenance": [],
      "authorship_tag": "ABX9TyO3GYVH9MHzI37+7xw65hX7",
      "include_colab_link": true
    },
    "kernelspec": {
      "name": "python3",
      "display_name": "Python 3"
    },
    "language_info": {
      "name": "python"
    }
  },
  "cells": [
    {
      "cell_type": "markdown",
      "metadata": {
        "id": "view-in-github",
        "colab_type": "text"
      },
      "source": [
        "<a href=\"https://colab.research.google.com/github/sravankumar21/CVIP-DataScience/blob/main/Breast_Cancer_Prediction.ipynb\" target=\"_parent\"><img src=\"https://colab.research.google.com/assets/colab-badge.svg\" alt=\"Open In Colab\"/></a>"
      ]
    },
    {
      "cell_type": "markdown",
      "source": [
        "***Importing Packages***"
      ],
      "metadata": {
        "id": "7ZDWZc2S54ik"
      }
    },
    {
      "cell_type": "code",
      "execution_count": null,
      "metadata": {
        "id": "pJdHcU9k5x_Z"
      },
      "outputs": [],
      "source": [
        "import pandas as pd\n",
        "from sklearn.model_selection import train_test_split\n",
        "from sklearn.ensemble import RandomForestClassifier\n",
        "from sklearn import metrics\n",
        "import matplotlib.pyplot as plt"
      ]
    },
    {
      "cell_type": "code",
      "source": [
        "df = pd.read_csv('/content/breast-cancer.csv')\n",
        "df.info()"
      ],
      "metadata": {
        "id": "iqFNtHpa6Bkk",
        "colab": {
          "base_uri": "https://localhost:8080/"
        },
        "outputId": "e811cf71-6159-4a97-d1ab-c135ea00df22"
      },
      "execution_count": null,
      "outputs": [
        {
          "output_type": "stream",
          "name": "stdout",
          "text": [
            "<class 'pandas.core.frame.DataFrame'>\n",
            "RangeIndex: 569 entries, 0 to 568\n",
            "Data columns (total 32 columns):\n",
            " #   Column                   Non-Null Count  Dtype  \n",
            "---  ------                   --------------  -----  \n",
            " 0   id                       569 non-null    int64  \n",
            " 1   diagnosis                569 non-null    object \n",
            " 2   radius_mean              569 non-null    float64\n",
            " 3   texture_mean             569 non-null    float64\n",
            " 4   perimeter_mean           569 non-null    float64\n",
            " 5   area_mean                569 non-null    float64\n",
            " 6   smoothness_mean          569 non-null    float64\n",
            " 7   compactness_mean         569 non-null    float64\n",
            " 8   concavity_mean           569 non-null    float64\n",
            " 9   concave points_mean      569 non-null    float64\n",
            " 10  symmetry_mean            569 non-null    float64\n",
            " 11  fractal_dimension_mean   569 non-null    float64\n",
            " 12  radius_se                569 non-null    float64\n",
            " 13  texture_se               569 non-null    float64\n",
            " 14  perimeter_se             569 non-null    float64\n",
            " 15  area_se                  569 non-null    float64\n",
            " 16  smoothness_se            569 non-null    float64\n",
            " 17  compactness_se           569 non-null    float64\n",
            " 18  concavity_se             569 non-null    float64\n",
            " 19  concave points_se        569 non-null    float64\n",
            " 20  symmetry_se              569 non-null    float64\n",
            " 21  fractal_dimension_se     569 non-null    float64\n",
            " 22  radius_worst             569 non-null    float64\n",
            " 23  texture_worst            569 non-null    float64\n",
            " 24  perimeter_worst          569 non-null    float64\n",
            " 25  area_worst               569 non-null    float64\n",
            " 26  smoothness_worst         569 non-null    float64\n",
            " 27  compactness_worst        569 non-null    float64\n",
            " 28  concavity_worst          569 non-null    float64\n",
            " 29  concave points_worst     569 non-null    float64\n",
            " 30  symmetry_worst           569 non-null    float64\n",
            " 31  fractal_dimension_worst  569 non-null    float64\n",
            "dtypes: float64(30), int64(1), object(1)\n",
            "memory usage: 142.4+ KB\n"
          ]
        }
      ]
    },
    {
      "cell_type": "code",
      "source": [
        "print(\"Column Names:\")\n",
        "print(df.columns)"
      ],
      "metadata": {
        "colab": {
          "base_uri": "https://localhost:8080/"
        },
        "id": "qx27I0UzEM5V",
        "outputId": "e6ed2cbf-ee92-4c7b-914d-afb11e4d0c5b"
      },
      "execution_count": null,
      "outputs": [
        {
          "output_type": "stream",
          "name": "stdout",
          "text": [
            "Column Names:\n",
            "Index(['id', 'diagnosis', 'radius_mean', 'texture_mean', 'perimeter_mean',\n",
            "       'area_mean', 'smoothness_mean', 'compactness_mean', 'concavity_mean',\n",
            "       'concave points_mean', 'symmetry_mean', 'fractal_dimension_mean',\n",
            "       'radius_se', 'texture_se', 'perimeter_se', 'area_se', 'smoothness_se',\n",
            "       'compactness_se', 'concavity_se', 'concave points_se', 'symmetry_se',\n",
            "       'fractal_dimension_se', 'radius_worst', 'texture_worst',\n",
            "       'perimeter_worst', 'area_worst', 'smoothness_worst',\n",
            "       'compactness_worst', 'concavity_worst', 'concave points_worst',\n",
            "       'symmetry_worst', 'fractal_dimension_worst'],\n",
            "      dtype='object')\n"
          ]
        }
      ]
    },
    {
      "cell_type": "code",
      "source": [
        "print(\"Head of the DataFrame:\")\n",
        "print(df.head())"
      ],
      "metadata": {
        "colab": {
          "base_uri": "https://localhost:8080/"
        },
        "id": "9ccUu9SLETK-",
        "outputId": "7737cfbe-a9d8-425a-b335-76149aeec40a"
      },
      "execution_count": null,
      "outputs": [
        {
          "output_type": "stream",
          "name": "stdout",
          "text": [
            "Head of the DataFrame:\n",
            "         id diagnosis  radius_mean  texture_mean  perimeter_mean  area_mean  \\\n",
            "0    842302         M        17.99         10.38          122.80     1001.0   \n",
            "1    842517         M        20.57         17.77          132.90     1326.0   \n",
            "2  84300903         M        19.69         21.25          130.00     1203.0   \n",
            "3  84348301         M        11.42         20.38           77.58      386.1   \n",
            "4  84358402         M        20.29         14.34          135.10     1297.0   \n",
            "\n",
            "   smoothness_mean  compactness_mean  concavity_mean  concave points_mean  \\\n",
            "0          0.11840           0.27760          0.3001              0.14710   \n",
            "1          0.08474           0.07864          0.0869              0.07017   \n",
            "2          0.10960           0.15990          0.1974              0.12790   \n",
            "3          0.14250           0.28390          0.2414              0.10520   \n",
            "4          0.10030           0.13280          0.1980              0.10430   \n",
            "\n",
            "   ...  radius_worst  texture_worst  perimeter_worst  area_worst  \\\n",
            "0  ...         25.38          17.33           184.60      2019.0   \n",
            "1  ...         24.99          23.41           158.80      1956.0   \n",
            "2  ...         23.57          25.53           152.50      1709.0   \n",
            "3  ...         14.91          26.50            98.87       567.7   \n",
            "4  ...         22.54          16.67           152.20      1575.0   \n",
            "\n",
            "   smoothness_worst  compactness_worst  concavity_worst  concave points_worst  \\\n",
            "0            0.1622             0.6656           0.7119                0.2654   \n",
            "1            0.1238             0.1866           0.2416                0.1860   \n",
            "2            0.1444             0.4245           0.4504                0.2430   \n",
            "3            0.2098             0.8663           0.6869                0.2575   \n",
            "4            0.1374             0.2050           0.4000                0.1625   \n",
            "\n",
            "   symmetry_worst  fractal_dimension_worst  \n",
            "0          0.4601                  0.11890  \n",
            "1          0.2750                  0.08902  \n",
            "2          0.3613                  0.08758  \n",
            "3          0.6638                  0.17300  \n",
            "4          0.2364                  0.07678  \n",
            "\n",
            "[5 rows x 32 columns]\n"
          ]
        }
      ]
    },
    {
      "cell_type": "code",
      "source": [
        "print(\"Tail of the DataFrame:\")\n",
        "print(df.tail())"
      ],
      "metadata": {
        "id": "MXERTBT7EYB3",
        "outputId": "6524013a-9e5c-4e11-b3f0-c5d66b90d4d6",
        "colab": {
          "base_uri": "https://localhost:8080/"
        }
      },
      "execution_count": null,
      "outputs": [
        {
          "output_type": "stream",
          "name": "stdout",
          "text": [
            "Tail of the DataFrame:\n",
            "         id diagnosis  radius_mean  texture_mean  perimeter_mean  area_mean  \\\n",
            "564  926424         M        21.56         22.39          142.00     1479.0   \n",
            "565  926682         M        20.13         28.25          131.20     1261.0   \n",
            "566  926954         M        16.60         28.08          108.30      858.1   \n",
            "567  927241         M        20.60         29.33          140.10     1265.0   \n",
            "568   92751         B         7.76         24.54           47.92      181.0   \n",
            "\n",
            "     smoothness_mean  compactness_mean  concavity_mean  concave points_mean  \\\n",
            "564          0.11100           0.11590         0.24390              0.13890   \n",
            "565          0.09780           0.10340         0.14400              0.09791   \n",
            "566          0.08455           0.10230         0.09251              0.05302   \n",
            "567          0.11780           0.27700         0.35140              0.15200   \n",
            "568          0.05263           0.04362         0.00000              0.00000   \n",
            "\n",
            "     ...  radius_worst  texture_worst  perimeter_worst  area_worst  \\\n",
            "564  ...        25.450          26.40           166.10      2027.0   \n",
            "565  ...        23.690          38.25           155.00      1731.0   \n",
            "566  ...        18.980          34.12           126.70      1124.0   \n",
            "567  ...        25.740          39.42           184.60      1821.0   \n",
            "568  ...         9.456          30.37            59.16       268.6   \n",
            "\n",
            "     smoothness_worst  compactness_worst  concavity_worst  \\\n",
            "564           0.14100            0.21130           0.4107   \n",
            "565           0.11660            0.19220           0.3215   \n",
            "566           0.11390            0.30940           0.3403   \n",
            "567           0.16500            0.86810           0.9387   \n",
            "568           0.08996            0.06444           0.0000   \n",
            "\n",
            "     concave points_worst  symmetry_worst  fractal_dimension_worst  \n",
            "564                0.2216          0.2060                  0.07115  \n",
            "565                0.1628          0.2572                  0.06637  \n",
            "566                0.1418          0.2218                  0.07820  \n",
            "567                0.2650          0.4087                  0.12400  \n",
            "568                0.0000          0.2871                  0.07039  \n",
            "\n",
            "[5 rows x 32 columns]\n"
          ]
        }
      ]
    },
    {
      "cell_type": "markdown",
      "source": [
        "![breast-cancer.jpg](data:image/jpeg;base64,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)"
      ],
      "metadata": {
        "id": "9wBALIB0_N5h"
      }
    },
    {
      "cell_type": "markdown",
      "source": [
        "***M = malignant or B = benign,\n",
        "1 means the cancer is malignant and 0 means benign.***"
      ],
      "metadata": {
        "id": "4PHF9V-96qLg"
      }
    },
    {
      "cell_type": "code",
      "source": [
        "df['diagnosis']=df['diagnosis'].map({'M':1,'B':0})\n",
        "\n",
        "train, test = train_test_split(df, test_size = 0.2)\n",
        "\n",
        "features = ['texture_mean','perimeter_mean','smoothness_mean','compactness_mean','symmetry_mean']\n",
        "\n",
        "train_X = train[features]\n",
        "train_y=train.diagnosis\n",
        "\n",
        "test_X= test[features]\n",
        "test_y =test.diagnosis"
      ],
      "metadata": {
        "id": "zNQWhk7g6KxS"
      },
      "execution_count": null,
      "outputs": []
    },
    {
      "cell_type": "code",
      "source": [
        "model=RandomForestClassifier(n_estimators=100, n_jobs=-1)\n",
        "model.fit(train_X,train_y)\n",
        "\n",
        "prediction=model.predict(test_X)\n",
        "metrics.accuracy_score(prediction,test_y)"
      ],
      "metadata": {
        "colab": {
          "base_uri": "https://localhost:8080/"
        },
        "id": "B9F-5LXt7ICT",
        "outputId": "74c64859-e5b9-4767-e154-e80a764b98a6"
      },
      "execution_count": null,
      "outputs": [
        {
          "output_type": "execute_result",
          "data": {
            "text/plain": [
              "0.9122807017543859"
            ]
          },
          "metadata": {},
          "execution_count": 4
        }
      ]
    },
    {
      "cell_type": "markdown",
      "source": [
        "***Feature importance is a measure of how much each feature contributes to the model's performance in making predictions.***"
      ],
      "metadata": {
        "id": "PGlFSEKo9ccl"
      }
    },
    {
      "cell_type": "code",
      "source": [
        "imp = model.feature_importances_\n",
        "plt.figure(figsize=(10, 5))\n",
        "plt.bar(features, imp)\n",
        "plt.xlabel('Features')\n",
        "plt.ylabel('Importance')\n",
        "plt.title('Feature Importances in Random Forest')\n",
        "plt.show()\n"
      ],
      "metadata": {
        "colab": {
          "base_uri": "https://localhost:8080/",
          "height": 487
        },
        "id": "pKiusEDa841A",
        "outputId": "bc56845d-3ea7-45bf-d8b0-99a601e37f29"
      },
      "execution_count": null,
      "outputs": [
        {
          "output_type": "display_data",
          "data": {
            "text/plain": [
              "<Figure size 1000x500 with 1 Axes>"
            ],
            "image/png": "[encoded data removed]"
          },
          "metadata": {}
        }
      ]
    },
    {
      "cell_type": "code",
      "source": [
        "def classify_cancer():\n",
        "    print(\"Please provide the following information:\")\n",
        "    texture_mean = float(input(\"Texture Mean: \"))\n",
        "    perimeter_mean = float(input(\"Perimeter Mean: \"))\n",
        "    smoothness_mean = float(input(\"Smoothness Mean: \"))\n",
        "    compactness_mean = float(input(\"Compactness Mean: \"))\n",
        "    symmetry_mean = float(input(\"Symmetry Mean: \"))\n",
        "\n",
        "    user_data = pd.DataFrame({\n",
        "        'texture_mean': [texture_mean],\n",
        "        'perimeter_mean': [perimeter_mean],\n",
        "        'smoothness_mean': [smoothness_mean],\n",
        "        'compactness_mean': [compactness_mean],\n",
        "        'symmetry_mean': [symmetry_mean]\n",
        "    })\n",
        "    prediction = model.predict(user_data)\n",
        "\n",
        "    if prediction[0] == 1:\n",
        "        print(\"The person is likely to have cancer.\")\n",
        "    else:\n",
        "        print(\"The person is likely to be cancer-free.\")\n",
        "classify_cancer()"
      ],
      "metadata": {
        "colab": {
          "base_uri": "https://localhost:8080/"
        },
        "id": "FFpEwWKq-Ce1",
        "outputId": "10cce871-20ec-4b66-ce58-4a2c64f5ba3c"
      },
      "execution_count": null,
      "outputs": [
        {
          "output_type": "stream",
          "name": "stdout",
          "text": [
            "Please provide the following information:\n",
            "Texture Mean: 1\n",
            "Perimeter Mean: 2\n",
            "Smoothness Mean: 3\n",
            "Compactness Mean: 0.2225\n",
            "Symmetry Mean: 22\n",
            "The person is likely to be cancer-free.\n"
          ]
        }
      ]
    },
    {
      "cell_type": "markdown",
      "source": [
        "***What those features actually mean?***\n",
        "\n",
        "diagnosis: This is the target variable, which indicates the diagnosis of the tumor. It is encoded as 'M' for malignant (cancerous) and 'B' for benign (non-cancerous).\n",
        "\n",
        "texture_mean: Mean value of grayscale intensity levels in the image of the cell nuclei.\n",
        "\n",
        "perimeter_mean: Mean value of the perimeter (circumference) of the cell nuclei.\n",
        "\n",
        "smoothness_mean: Mean value of the local variation in pixel intensity (smoothness) of the cell nuclei.\n",
        "\n",
        "compactness_mean: Mean value of the compactness, which is computed as (perimeter^2 / area - 1.0) of the cell nuclei.\n",
        "\n",
        "symmetry_mean: Mean value of symmetry, which measures the symmetry of the cell nuclei."
      ],
      "metadata": {
        "id": "7EACS3oHAXzn"
      }
    }
  ]
}